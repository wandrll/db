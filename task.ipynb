{
 "cells": [
  {
   "cell_type": "markdown",
   "metadata": {},
   "source": [
    "Установим необходимые пакеты для"
   ]
  },
  {
   "cell_type": "code",
   "execution_count": 1,
   "metadata": {},
   "outputs": [
    {
     "name": "stdout",
     "output_type": "stream",
     "text": [
      "Defaulting to user installation because normal site-packages is not writeable\n",
      "Requirement already satisfied: redis in /home/wandrl/.local/lib/python3.10/site-packages (4.5.4)\n",
      "Requirement already satisfied: async-timeout>=4.0.2 in /home/wandrl/.local/lib/python3.10/site-packages (from redis) (4.0.2)\n",
      "Note: you may need to restart the kernel to use updated packages.\n"
     ]
    }
   ],
   "source": [
    "pip install redis\n"
   ]
  },
  {
   "cell_type": "markdown",
   "metadata": {},
   "source": [
    "Подключимся и проверим, что все работает корректно"
   ]
  },
  {
   "cell_type": "code",
   "execution_count": 2,
   "metadata": {},
   "outputs": [],
   "source": [
    "import redis\n",
    "pool = redis.ConnectionPool(host='172.17.0.2', port=6379, db=0)\n",
    "r = redis.Redis(connection_pool=pool)"
   ]
  },
  {
   "cell_type": "code",
   "execution_count": 3,
   "metadata": {},
   "outputs": [
    {
     "data": {
      "text/plain": [
       "b'bar'"
      ]
     },
     "execution_count": 3,
     "metadata": {},
     "output_type": "execute_result"
    }
   ],
   "source": [
    "r.flushdb()\n",
    "r.set('foo', 'bar')\n",
    "# True\n",
    "r.get('foo')\n",
    "# bar"
   ]
  },
  {
   "cell_type": "markdown",
   "metadata": {},
   "source": [
    "Теперь выкачаем датасет для тестов"
   ]
  },
  {
   "cell_type": "code",
   "execution_count": 4,
   "metadata": {},
   "outputs": [
    {
     "name": "stdout",
     "output_type": "stream",
     "text": [
      "--2023-04-26 02:53:33--  https://raw.githubusercontent.com/json-iterator/test-data/master/large-file.json\n",
      "Loaded CA certificate '/etc/ssl/certs/ca-certificates.crt'\n",
      "Resolving raw.githubusercontent.com (raw.githubusercontent.com)... 185.199.108.133, 185.199.111.133, 185.199.109.133, ...\n",
      "Connecting to raw.githubusercontent.com (raw.githubusercontent.com)|185.199.108.133|:443... connected.\n",
      "HTTP request sent, awaiting response... 200 OK\n",
      "Length: 26141343 (25M) [text/plain]\n",
      "Saving to: ‘large-file.json’\n",
      "\n",
      "large-file.json     100%[===================>]  24.93M  1.20MB/s    in 23s     \n",
      "\n",
      "2023-04-26 02:53:57 (1.10 MB/s) - ‘large-file.json’ saved [26141343/26141343]\n",
      "\n"
     ]
    }
   ],
   "source": [
    "!rm large-file.json\n",
    "!wget https://raw.githubusercontent.com/json-iterator/test-data/master/large-file.json"
   ]
  },
  {
   "cell_type": "code",
   "execution_count": 5,
   "metadata": {},
   "outputs": [],
   "source": [
    "import json"
   ]
  },
  {
   "cell_type": "code",
   "execution_count": 6,
   "metadata": {},
   "outputs": [
    {
     "name": "stdout",
     "output_type": "stream",
     "text": [
      "{'id': '2489651045', 'type': 'CreateEvent', 'actor': {'id': 665991, 'login': 'petroav', 'gravatar_id': '', 'url': 'https://api.github.com/users/petroav', 'avatar_url': 'https://avatars.githubusercontent.com/u/665991?'}, 'repo': {'id': 28688495, 'name': 'petroav/6.828', 'url': 'https://api.github.com/repos/petroav/6.828'}, 'payload': {'ref': 'master', 'ref_type': 'branch', 'master_branch': 'master', 'description': \"Solution to homework and assignments from MIT's 6.828 (Operating Systems Engineering). Done in my spare time.\", 'pusher_type': 'user'}, 'public': True, 'created_at': '2015-01-01T15:00:00Z'}\n",
      "{'id': '2489651051', 'type': 'PushEvent', 'actor': {'id': 3854017, 'login': 'rspt', 'gravatar_id': '', 'url': 'https://api.github.com/users/rspt', 'avatar_url': 'https://avatars.githubusercontent.com/u/3854017?'}, 'repo': {'id': 28671719, 'name': 'rspt/rspt-theme', 'url': 'https://api.github.com/repos/rspt/rspt-theme'}, 'payload': {'push_id': 536863970, 'size': 1, 'distinct_size': 1, 'ref': 'refs/heads/master', 'head': '6b089eb4a43f728f0a594388092f480f2ecacfcd', 'before': '437c03652caa0bc4a7554b18d5c0a394c2f3d326', 'commits': [{'sha': '6b089eb4a43f728f0a594388092f480f2ecacfcd', 'author': {'email': '5c682c2d1ec4073e277f9ba9f4bdf07e5794dabe@rspt.ch', 'name': 'rspt'}, 'message': 'Fix main header height on mobile', 'distinct': True, 'url': 'https://api.github.com/repos/rspt/rspt-theme/commits/6b089eb4a43f728f0a594388092f480f2ecacfcd'}]}, 'public': True, 'created_at': '2015-01-01T15:00:01Z'}\n",
      "{'id': '2489651053', 'type': 'PushEvent', 'actor': {'id': 6339799, 'login': 'izuzero', 'gravatar_id': '', 'url': 'https://api.github.com/users/izuzero', 'avatar_url': 'https://avatars.githubusercontent.com/u/6339799?'}, 'repo': {'id': 28270952, 'name': 'izuzero/xe-module-ajaxboard', 'url': 'https://api.github.com/repos/izuzero/xe-module-ajaxboard'}, 'payload': {'push_id': 536863972, 'size': 1, 'distinct_size': 1, 'ref': 'refs/heads/develop', 'head': 'ec819b9df4fe612bb35bf562f96810bf991f9975', 'before': '590433109f221a96cf19ea7a7d9a43ca333e3b3e', 'commits': [{'sha': 'ec819b9df4fe612bb35bf562f96810bf991f9975', 'author': {'email': 'df05f55543db3c62cf64f7438018ec37f3605d3c@gmail.com', 'name': 'Eunsoo Lee'}, 'message': '#20 게시글 및 댓글 삭제 시 새로고침이 되는 문제 해결\\n\\n원래 의도는 새로고침이 되지 않고 확인창만으로 해결되어야 함.\\n기본 게시판 대응 플러그인에서 발생한 이슈.', 'distinct': True, 'url': 'https://api.github.com/repos/izuzero/xe-module-ajaxboard/commits/ec819b9df4fe612bb35bf562f96810bf991f9975'}]}, 'public': True, 'created_at': '2015-01-01T15:00:01Z'}\n",
      "{'id': '2489651057', 'type': 'WatchEvent', 'actor': {'id': 6894991, 'login': 'SametSisartenep', 'gravatar_id': '', 'url': 'https://api.github.com/users/SametSisartenep', 'avatar_url': 'https://avatars.githubusercontent.com/u/6894991?'}, 'repo': {'id': 2871998, 'name': 'visionmedia/debug', 'url': 'https://api.github.com/repos/visionmedia/debug'}, 'payload': {'action': 'started'}, 'public': True, 'created_at': '2015-01-01T15:00:03Z', 'org': {'id': 9285252, 'login': 'visionmedia', 'gravatar_id': '', 'url': 'https://api.github.com/orgs/visionmedia', 'avatar_url': 'https://avatars.githubusercontent.com/u/9285252?'}}\n",
      "{'id': '2489651062', 'type': 'PushEvent', 'actor': {'id': 485033, 'login': 'winterbe', 'gravatar_id': '', 'url': 'https://api.github.com/users/winterbe', 'avatar_url': 'https://avatars.githubusercontent.com/u/485033?'}, 'repo': {'id': 28593843, 'name': 'winterbe/streamjs', 'url': 'https://api.github.com/repos/winterbe/streamjs'}, 'payload': {'push_id': 536863975, 'size': 1, 'distinct_size': 1, 'ref': 'refs/heads/master', 'head': '15b303203be31bd295bc831075da8f74b99b3981', 'before': '0fef99f604154ccfe1d2fcd0aadeffb5c58e43ff', 'commits': [{'sha': '15b303203be31bd295bc831075da8f74b99b3981', 'author': {'email': '52a47bffd52d9cea1ee1362f2bd0c5f87fac9262@googlemail.com', 'name': 'Benjamin Winterberg'}, 'message': 'Add comparator support for min, max operations', 'distinct': True, 'url': 'https://api.github.com/repos/winterbe/streamjs/commits/15b303203be31bd295bc831075da8f74b99b3981'}]}, 'public': True, 'created_at': '2015-01-01T15:00:03Z'}\n"
     ]
    }
   ],
   "source": [
    "f = open('large-file.json')\n",
    "\n",
    "data = json.load(f)\n",
    "\n",
    "for i in data[:5]:\n",
    "    print(i)\n",
    "f.close()"
   ]
  },
  {
   "cell_type": "code",
   "execution_count": 7,
   "metadata": {},
   "outputs": [],
   "source": [
    "def measure_time(conn, func):\n",
    "    start = r.time()\n",
    "    func()\n",
    "    end = r.time()\n",
    "    seconds = end[0] - start[0]\n",
    "    microseconds = end[1] - start[1]\n",
    "    print('Microseconds: ', seconds * 1000000 + microseconds, '\\n')"
   ]
  },
  {
   "cell_type": "markdown",
   "metadata": {},
   "source": [
    "Загружаем как строки"
   ]
  },
  {
   "cell_type": "code",
   "execution_count": 8,
   "metadata": {},
   "outputs": [
    {
     "name": "stdout",
     "output_type": "stream",
     "text": [
      "Microseconds:  1070992 \n",
      "\n"
     ]
    }
   ],
   "source": [
    "def load_as_strings(data, db):\n",
    "    id = 0 \n",
    "    for curr in data:\n",
    "        db.set('event:' + str(id), str(curr))\n",
    "        id += 1\n",
    "\n",
    "measure_time(r, lambda : load_as_strings(data, r))\n"
   ]
  },
  {
   "cell_type": "markdown",
   "metadata": {},
   "source": [
    "Читаем как строки"
   ]
  },
  {
   "cell_type": "code",
   "execution_count": 9,
   "metadata": {},
   "outputs": [
    {
     "name": "stdout",
     "output_type": "stream",
     "text": [
      "Microseconds:  722833 \n",
      "\n"
     ]
    }
   ],
   "source": [
    "def read_as_strings(db, size):\n",
    "    for id in range(size):\n",
    "        db.get('event:' + str(id))\n",
    "\n",
    "\n",
    "measure_time(r, lambda : read_as_strings(r, len(data)))"
   ]
  },
  {
   "cell_type": "markdown",
   "metadata": {},
   "source": [
    "Создадим hash map id - весь объект"
   ]
  },
  {
   "cell_type": "code",
   "execution_count": 10,
   "metadata": {},
   "outputs": [
    {
     "name": "stdout",
     "output_type": "stream",
     "text": [
      "Microseconds:  957494 \n",
      "\n"
     ]
    }
   ],
   "source": [
    "def load_hash_map(db, data):\n",
    "    for curr in data:\n",
    "        db.hset('info_by_id', str(curr['id']), str(curr))\n",
    "\n",
    "measure_time(r, lambda : load_hash_map(r, data))"
   ]
  },
  {
   "cell_type": "markdown",
   "metadata": {},
   "source": [
    "Прочитаем"
   ]
  },
  {
   "cell_type": "code",
   "execution_count": 11,
   "metadata": {},
   "outputs": [
    {
     "name": "stdout",
     "output_type": "stream",
     "text": [
      "Microseconds:  666599 \n",
      "\n"
     ]
    }
   ],
   "source": [
    "def read_hash_map(db, data):\n",
    "    for curr in data:\n",
    "        db.hget('info_by_id', str(curr['id']))\n",
    "\n",
    "measure_time(r, lambda : read_hash_map(r, data))"
   ]
  },
  {
   "cell_type": "markdown",
   "metadata": {},
   "source": [
    "Абсолютно то же самое, только для zset"
   ]
  },
  {
   "cell_type": "code",
   "execution_count": 12,
   "metadata": {},
   "outputs": [
    {
     "name": "stdout",
     "output_type": "stream",
     "text": [
      "Microseconds:  1139101 \n",
      "\n"
     ]
    }
   ],
   "source": [
    "def load_zhash_map(db, data):\n",
    "    for curr in data:\n",
    "        dict = {}\n",
    "        dict[str(curr)] = int(curr['id'])\n",
    "        db.zadd('zinfo_by_id', dict)\n",
    "\n",
    "measure_time(r, lambda : load_zhash_map(r, data))"
   ]
  },
  {
   "cell_type": "code",
   "execution_count": 13,
   "metadata": {},
   "outputs": [
    {
     "name": "stdout",
     "output_type": "stream",
     "text": [
      "Microseconds:  88352 \n",
      "\n"
     ]
    }
   ],
   "source": [
    "def read_zhash_map(db):\n",
    "    db.zrange('zinfo_by_id', 0, -1)\n",
    "\n",
    "measure_time(r, lambda : read_zhash_map(r))"
   ]
  },
  {
   "cell_type": "markdown",
   "metadata": {},
   "source": [
    "И последнее - лист"
   ]
  },
  {
   "cell_type": "code",
   "execution_count": 14,
   "metadata": {},
   "outputs": [
    {
     "name": "stdout",
     "output_type": "stream",
     "text": [
      "Microseconds:  997057 \n",
      "\n"
     ]
    }
   ],
   "source": [
    "def load_list(db, data):\n",
    "    for curr in data:\n",
    "        db.lpush('list_of_everything',str(curr))\n",
    "\n",
    "measure_time(r, lambda : load_list(r, data))"
   ]
  },
  {
   "cell_type": "code",
   "execution_count": 15,
   "metadata": {},
   "outputs": [
    {
     "name": "stdout",
     "output_type": "stream",
     "text": [
      "Microseconds:  52271 \n",
      "\n"
     ]
    }
   ],
   "source": [
    "def read_list(db):\n",
    "    db.lrange('list_of_everything', 0, -1)\n",
    "\n",
    "measure_time(r, lambda : read_list(r))"
   ]
  }
 ],
 "metadata": {
  "kernelspec": {
   "display_name": "Python 3.10.9 64-bit",
   "language": "python",
   "name": "python3"
  },
  "language_info": {
   "codemirror_mode": {
    "name": "ipython",
    "version": 3
   },
   "file_extension": ".py",
   "mimetype": "text/x-python",
   "name": "python",
   "nbconvert_exporter": "python",
   "pygments_lexer": "ipython3",
   "version": "3.10.9"
  },
  "orig_nbformat": 4,
  "vscode": {
   "interpreter": {
    "hash": "e7370f93d1d0cde622a1f8e1c04877d8463912d04d973331ad4851f04de6915a"
   }
  }
 },
 "nbformat": 4,
 "nbformat_minor": 2
}
